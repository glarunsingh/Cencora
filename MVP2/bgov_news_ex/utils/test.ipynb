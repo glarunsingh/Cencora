{
 "cells": [
  {
   "cell_type": "code",
   "execution_count": 22,
   "metadata": {},
   "outputs": [
    {
     "name": "stdout",
     "output_type": "stream",
     "text": [
      "['https://about.bgov.com/news/biden-battles-covid-calls-to-quit-what-to-know-in-washington/', 'https://about.bgov.com/news/harris-working-to-wrangle-democrats-what-to-know-in-washington/', 'https://about.bgov.com/news/harris-now-dems-presumptive-nominee-what-to-know-in-washington/', 'https://about.bgov.com/news/trump-speech-cements-control-of-gop-what-to-know-in-washington/', 'https://about.bgov.com/news/what-to-know-in-washington-harris-sets-eyes-on-three-vp-picks/', 'https://about.bgov.com/news/obamas-endorse-harris-in-video-what-to-know-in-washington/', 'https://about.bgov.com/news/harris-looks-to-expand-electoral-map-what-to-know-in-washington/', 'https://about.bgov.com/news/trump-talks-taxes-tariffs-taiwan-what-to-know-in-washington/', 'https://about.bgov.com/news/harris-rise-spurs-downballot-query-what-to-know-in-washington/', 'https://about.bgov.com/news/peek-into-harris-network-what-to-know-in-washington/']\n"
     ]
    }
   ],
   "source": [
    "import requests\n",
    "from bs4 import BeautifulSoup\n",
    "import json\n",
    "\n",
    "# URL to fetch the HTML content from\n",
    "url = \"https://about.bgov.com/news/\"\n",
    "\n",
    "# Send a GET request to the URL\n",
    "response = requests.get(url)\n",
    "\n",
    "# Check if the request was successful\n",
    "if response.status_code == 200:\n",
    "    # Parse the HTML content with BeautifulSoup\n",
    "    soup = BeautifulSoup(response.content, 'html.parser')\n",
    "    \n",
    "    # Find all teaser news containers\n",
    "    teaser_divs = soup.find_all('div', class_='teaser news ft-container')\n",
    "    \n",
    "    # Extract URLs\n",
    "    urls = []\n",
    "    for teaser in teaser_divs:\n",
    "        # Find the <a> tags within each teaser\n",
    "        a_tags = teaser.find_all('a', href=True)\n",
    "        for a in a_tags:\n",
    "            # Append the href attribute to the list of URLs\n",
    "            urls.append(a['href'])\n",
    "    \n",
    "    # Print or use the list of URLs\n",
    "    #print(urls)\n",
    "else:\n",
    "    print(f\"Failed to retrieve content, status code: {response.status_code}\")\n",
    "\n",
    "\n",
    "# Remove duplicate URLs\n",
    "unique_urls = list(set(urls))\n",
    "print(unique_urls)\n",
    "\n",
    "\n",
    "# List to store the extracted content\n",
    "articles = []\n",
    "\n",
    "# Process each unique URL\n",
    "for url in unique_urls:\n",
    "    html_content = fetch_html(url)\n",
    "    article_content = extract_content(html_content)\n",
    "    if article_content:\n",
    "        articles.append({\n",
    "            'url': url,\n",
    "            **article_content\n",
    "        })\n",
    "\n",
    "# Write the content to a JSON file\n",
    "with open('extracted_articles.json', 'w', encoding='utf-8') as f:\n",
    "    json.dump(articles, f, ensure_ascii=False, indent=4)"
   ]
  },
  {
   "cell_type": "code",
   "execution_count": 16,
   "metadata": {},
   "outputs": [],
   "source": [
    "import requests\n",
    "from bs4 import BeautifulSoup"
   ]
  },
  {
   "cell_type": "code",
   "execution_count": 17,
   "metadata": {},
   "outputs": [],
   "source": [
    "# Function to fetch HTML content from a URL\n",
    "def fetch_html(url):\n",
    "    try:\n",
    "        response = requests.get(url)\n",
    "        response.raise_for_status()  # Raise an exception for HTTP errors\n",
    "        return response.content\n",
    "    except requests.RequestException as e:\n",
    "        print(f\"Error fetching {url}: {e}\")\n",
    "        return None"
   ]
  },
  {
   "cell_type": "code",
   "execution_count": 18,
   "metadata": {},
   "outputs": [],
   "source": [
    "# Function to extract content from HTML\n",
    "def extract_content(html):\n",
    "    if not html:\n",
    "        return None\n",
    "\n",
    "    soup = BeautifulSoup(html, 'html.parser')\n",
    "\n",
    "    # Extract the title\n",
    "    title_tag = soup.find('h1', class_='news__header__title')\n",
    "    title = title_tag.get_text(strip=True) if title_tag else 'No title found'\n",
    "\n",
    "    # Extract the date\n",
    "    time_tag = soup.find('time')\n",
    "    date = time_tag.get_text(strip=True) if time_tag else 'No date found'\n",
    "\n",
    "    # Extract the article body\n",
    "    content_div = soup.find('div', class_='news__content')\n",
    "    paragraphs = content_div.find_all('p') if content_div else []\n",
    "    content = '\\n'.join(p.get_text(strip=True) for p in paragraphs)\n",
    "\n",
    "    return {\n",
    "        'title': title,\n",
    "        'date': date,\n",
    "        'content': content\n",
    "    }\n"
   ]
  }
 ],
 "metadata": {
  "kernelspec": {
   "display_name": ".venv",
   "language": "python",
   "name": "python3"
  },
  "language_info": {
   "codemirror_mode": {
    "name": "ipython",
    "version": 3
   },
   "file_extension": ".py",
   "mimetype": "text/x-python",
   "name": "python",
   "nbconvert_exporter": "python",
   "pygments_lexer": "ipython3",
   "version": "3.12.4"
  }
 },
 "nbformat": 4,
 "nbformat_minor": 2
}
